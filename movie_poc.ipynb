{
 "cells": [
  {
   "cell_type": "code",
   "execution_count": 7,
   "id": "eeea4c1d",
   "metadata": {},
   "outputs": [
    {
     "name": "stdout",
     "output_type": "stream",
     "text": [
      "Collecting statsmodels\n",
      "  Downloading statsmodels-0.13.2-cp310-cp310-win_amd64.whl (9.1 MB)\n",
      "     ---------------------------------------- 9.1/9.1 MB 17.2 MB/s eta 0:00:00\n",
      "Requirement already satisfied: packaging>=21.3 in c:\\users\\timothee toumani\\appdata\\local\\programs\\python\\python310\\lib\\site-packages (from statsmodels) (21.3)\n",
      "Collecting patsy>=0.5.2\n",
      "  Downloading patsy-0.5.2-py2.py3-none-any.whl (233 kB)\n",
      "     ------------------------------------- 233.7/233.7 KB 14.9 MB/s eta 0:00:00\n",
      "Requirement already satisfied: pandas>=0.25 in c:\\users\\timothee toumani\\appdata\\local\\programs\\python\\python310\\lib\\site-packages (from statsmodels) (1.4.2)\n",
      "Requirement already satisfied: numpy>=1.17 in c:\\users\\timothee toumani\\appdata\\local\\programs\\python\\python310\\lib\\site-packages (from statsmodels) (1.22.3)\n",
      "Requirement already satisfied: scipy>=1.3 in c:\\users\\timothee toumani\\appdata\\local\\programs\\python\\python310\\lib\\site-packages (from statsmodels) (1.8.0)\n",
      "Requirement already satisfied: pyparsing!=3.0.5,>=2.0.2 in c:\\users\\timothee toumani\\appdata\\local\\programs\\python\\python310\\lib\\site-packages (from packaging>=21.3->statsmodels) (3.0.7)\n",
      "Requirement already satisfied: pytz>=2020.1 in c:\\users\\timothee toumani\\appdata\\local\\programs\\python\\python310\\lib\\site-packages (from pandas>=0.25->statsmodels) (2022.1)\n",
      "Requirement already satisfied: python-dateutil>=2.8.1 in c:\\users\\timothee toumani\\appdata\\local\\programs\\python\\python310\\lib\\site-packages (from pandas>=0.25->statsmodels) (2.8.2)\n",
      "Requirement already satisfied: six in c:\\users\\timothee toumani\\appdata\\local\\programs\\python\\python310\\lib\\site-packages (from patsy>=0.5.2->statsmodels) (1.16.0)\n",
      "Installing collected packages: patsy, statsmodels\n",
      "Successfully installed patsy-0.5.2 statsmodels-0.13.2\n",
      "Note: you may need to restart the kernel to use updated packages.\n"
     ]
    }
   ],
   "source": [
    "pip install statsmodels"
   ]
  },
  {
   "cell_type": "code",
   "execution_count": 8,
   "id": "8388f70c",
   "metadata": {},
   "outputs": [],
   "source": [
    "import pandas as pd\n",
    "import numpy as np\n",
    "\n",
    "from sklearn.model_selection import train_test_split\n",
    "import statsmodels.api as sm\n",
    "from scipy import stats\n",
    "from statsmodels.stats.outliers_influence import variance_inflation_factor\n",
    "from sklearn import metrics\n",
    "from sklearn.metrics import r2_score, accuracy_score\n",
    "from sklearn.feature_extraction.text import CountVectorizer\n",
    "from sklearn.metrics.pairwise import cosine_similarity\n",
    "\n",
    "import warnings\n",
    "warnings.filterwarnings('ignore')\n",
    "\n",
    "import re\n",
    "import os"
   ]
  },
  {
   "cell_type": "code",
   "execution_count": 23,
   "id": "b1d85b47",
   "metadata": {},
   "outputs": [],
   "source": [
    "movies = pd.read_csv(r'C:/Users/Timothee TOUMANI/Desktop/work/work_projects/poc_dh/movie_reco/ml-latest-small/movies.csv')\n",
    "ratings = pd.read_csv(r'C:/Users/Timothee TOUMANI/Desktop/work/work_projects/poc_dh/movie_reco/ml-latest-small/ratings.csv')\n",
    "tags = pd.read_csv(r'C:/Users/Timothee TOUMANI/Desktop/work/work_projects/poc_dh/movie_reco/ml-latest-small/tags.csv')"
   ]
  },
  {
   "cell_type": "markdown",
   "id": "95276c8f",
   "metadata": {},
   "source": [
    "### Content Base"
   ]
  },
  {
   "cell_type": "code",
   "execution_count": 16,
   "id": "ea0f1cde",
   "metadata": {},
   "outputs": [],
   "source": [
    "# récupérer l'année dans le titre\n",
    "def getYear(title):\n",
    "    result = re.search(r'\\(\\d{4}\\)', title)\n",
    "    if result:\n",
    "        found = result.group(0).strip('(').strip(')')\n",
    "    else: \n",
    "        found = 0\n",
    "    return int(found)\n",
    "    \n",
    "# retirer l'année du titre\n",
    "def removeyear(string):\n",
    "    result=re.search(r'(\\d{4})',string)\n",
    "    if result:\n",
    "        return string[:-6].strip()\n",
    "    return string\n",
    "\n",
    "def get_title_from_index(index):\n",
    "    return df[df.index == index][\"title\"].values[0]\n",
    "\n",
    "def get_index_from_title(title):\n",
    "    return df[df.title == title].index.values[0]\n",
    "\n",
    "\n",
    "def get_important_features(data):\n",
    "  important_features = []\n",
    "  for i in range(0, data.shape[0]):\n",
    "    important_features.append(data['title'][i]+' '+data['genres'][i])\n",
    "\n",
    "  return important_features"
   ]
  },
  {
   "cell_type": "code",
   "execution_count": 25,
   "id": "9292e787",
   "metadata": {},
   "outputs": [],
   "source": [
    "movies['year'] = movies.apply(lambda x: getYear(x['title']), axis=1)\n",
    "movies['title'] = movies.title.apply(removeyear)\n",
    "\n",
    "features = ['title','genres']\n",
    "\n",
    "movies['features'] = get_important_features(movies)"
   ]
  },
  {
   "cell_type": "code",
   "execution_count": 19,
   "id": "c2a12beb",
   "metadata": {},
   "outputs": [],
   "source": [
    "cm = CountVectorizer().fit_transform(movies['features'])\n",
    "cs = cosine_similarity(cm)"
   ]
  },
  {
   "cell_type": "code",
   "execution_count": 20,
   "id": "bb37e6f0",
   "metadata": {},
   "outputs": [],
   "source": [
    "np.savetxt('cosine_sim.csv', cs, delimiter=',')"
   ]
  },
  {
   "cell_type": "markdown",
   "id": "9af91769",
   "metadata": {},
   "source": [
    "### Collaborative filtering"
   ]
  },
  {
   "cell_type": "code",
   "execution_count": 26,
   "id": "d52ebb7d",
   "metadata": {},
   "outputs": [
    {
     "name": "stdout",
     "output_type": "stream",
     "text": [
      "(100836, 4)\n"
     ]
    },
    {
     "data": {
      "text/html": [
       "<div>\n",
       "<style scoped>\n",
       "    .dataframe tbody tr th:only-of-type {\n",
       "        vertical-align: middle;\n",
       "    }\n",
       "\n",
       "    .dataframe tbody tr th {\n",
       "        vertical-align: top;\n",
       "    }\n",
       "\n",
       "    .dataframe thead th {\n",
       "        text-align: right;\n",
       "    }\n",
       "</style>\n",
       "<table border=\"1\" class=\"dataframe\">\n",
       "  <thead>\n",
       "    <tr style=\"text-align: right;\">\n",
       "      <th></th>\n",
       "      <th>movieId</th>\n",
       "      <th>title</th>\n",
       "      <th>userId</th>\n",
       "      <th>rating</th>\n",
       "    </tr>\n",
       "  </thead>\n",
       "  <tbody>\n",
       "    <tr>\n",
       "      <th>0</th>\n",
       "      <td>1</td>\n",
       "      <td>Toy Story</td>\n",
       "      <td>1</td>\n",
       "      <td>4.0</td>\n",
       "    </tr>\n",
       "    <tr>\n",
       "      <th>1</th>\n",
       "      <td>1</td>\n",
       "      <td>Toy Story</td>\n",
       "      <td>5</td>\n",
       "      <td>4.0</td>\n",
       "    </tr>\n",
       "    <tr>\n",
       "      <th>2</th>\n",
       "      <td>1</td>\n",
       "      <td>Toy Story</td>\n",
       "      <td>7</td>\n",
       "      <td>4.5</td>\n",
       "    </tr>\n",
       "    <tr>\n",
       "      <th>3</th>\n",
       "      <td>1</td>\n",
       "      <td>Toy Story</td>\n",
       "      <td>15</td>\n",
       "      <td>2.5</td>\n",
       "    </tr>\n",
       "    <tr>\n",
       "      <th>4</th>\n",
       "      <td>1</td>\n",
       "      <td>Toy Story</td>\n",
       "      <td>17</td>\n",
       "      <td>4.5</td>\n",
       "    </tr>\n",
       "  </tbody>\n",
       "</table>\n",
       "</div>"
      ],
      "text/plain": [
       "   movieId      title  userId  rating\n",
       "0        1  Toy Story       1     4.0\n",
       "1        1  Toy Story       5     4.0\n",
       "2        1  Toy Story       7     4.5\n",
       "3        1  Toy Story      15     2.5\n",
       "4        1  Toy Story      17     4.5"
      ]
     },
     "execution_count": 26,
     "metadata": {},
     "output_type": "execute_result"
    }
   ],
   "source": [
    "ratings = pd.merge(movies,ratings).drop(['genres','timestamp', 'year', 'features'],axis=1)\n",
    "print(ratings.shape)\n",
    "ratings.head()"
   ]
  },
  {
   "cell_type": "code",
   "execution_count": 27,
   "id": "8196ff20",
   "metadata": {},
   "outputs": [
    {
     "name": "stdout",
     "output_type": "stream",
     "text": [
      "Before:  (610, 9724)\n",
      "After:  (610, 2269)\n"
     ]
    }
   ],
   "source": [
    "userRatings = ratings.pivot_table(index=['userId'],columns=['movieId'],values='rating')\n",
    "userRatings.head()\n",
    "print(\"Before: \",userRatings.shape)\n",
    "userRatings = userRatings.dropna(thresh=10, axis=1).fillna(userRatings.mean())\n",
    "#userRatings.fillna(0, inplace=True)\n",
    "print(\"After: \",userRatings.shape)"
   ]
  },
  {
   "cell_type": "code",
   "execution_count": 28,
   "id": "50adb99f",
   "metadata": {},
   "outputs": [],
   "source": [
    "corrMatrix = userRatings.corr(method='pearson')"
   ]
  },
  {
   "cell_type": "code",
   "execution_count": 29,
   "id": "daabb55f",
   "metadata": {},
   "outputs": [],
   "source": [
    "corrMatrix.to_csv('matrice2.csv',index = True, index_label ='movieId')"
   ]
  },
  {
   "cell_type": "code",
   "execution_count": 30,
   "id": "7d8090b8",
   "metadata": {},
   "outputs": [],
   "source": [
    "def get_similar(movie_name,rating):\n",
    "    similar_ratings = corrMatrix[movie_name]*(rating-2.5)\n",
    "    similar_ratings = similar_ratings.sort_values(ascending=False)\n",
    "    #print(type(similar_ratings))\n",
    "    return similar_ratings"
   ]
  }
 ],
 "metadata": {
  "kernelspec": {
   "display_name": "Python 3 (ipykernel)",
   "language": "python",
   "name": "python3"
  },
  "language_info": {
   "codemirror_mode": {
    "name": "ipython",
    "version": 3
   },
   "file_extension": ".py",
   "mimetype": "text/x-python",
   "name": "python",
   "nbconvert_exporter": "python",
   "pygments_lexer": "ipython3",
   "version": "3.10.4"
  }
 },
 "nbformat": 4,
 "nbformat_minor": 5
}
